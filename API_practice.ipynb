{
 "cells": [
  {
   "cell_type": "code",
   "execution_count": 33,
   "id": "83011e22",
   "metadata": {},
   "outputs": [],
   "source": [
    "# Create a practice set of random latitude and longitude combinations.\n",
    "x = [25.12903645, 25.92017388, 26.62509167, -59.98969384, 37.30571269]\n",
    "y = [-67.59741259, 11.09532135, 74.84233102, -76.89176677, -61.13376282]\n",
    "coordinates = zip(x, y)"
   ]
  },
  {
   "cell_type": "code",
   "execution_count": 34,
   "id": "ad4b002c",
   "metadata": {},
   "outputs": [],
   "source": [
    "# Use the citipy module to determine city based on latitude and longitude.\n",
    "from citipy import citipy"
   ]
  },
  {
   "cell_type": "code",
   "execution_count": 27,
   "id": "538310cd",
   "metadata": {},
   "outputs": [
    {
     "name": "stdout",
     "output_type": "stream",
     "text": [
      "cockburn town tc\n",
      "gat ly\n",
      "parvatsar in\n",
      "punta arenas cl\n",
      "saint george bm\n"
     ]
    }
   ],
   "source": [
    "# Use the tuple() function to display the latitude and longitude combinations.\n",
    "for coordinate in coordinates:\n",
    "    print(citipy.nearest_city(coordinate[0], coordinate[1]).city_name, citipy.nearest_city(coordinate[0], coordinate[1]).country_code)"
   ]
  },
  {
   "cell_type": "code",
   "execution_count": 37,
   "id": "cff07f9f",
   "metadata": {},
   "outputs": [],
   "source": [
    "# Import the requests library.\n",
    "import requests\n",
    "\n",
    "# Import the API key.\n",
    "from config import weather_api_key"
   ]
  },
  {
   "cell_type": "code",
   "execution_count": 42,
   "id": "2f58ac82",
   "metadata": {},
   "outputs": [],
   "source": [
    "# Starting URL for Weather Map API Call\n",
    "url = \"http://api.openweathermap.org/data/2.5/weather?units=Imperial&APPID=\" + weather_api_key\n"
   ]
  },
  {
   "cell_type": "code",
   "execution_count": 45,
   "id": "97c620fb",
   "metadata": {},
   "outputs": [],
   "source": [
    "# Create an endpoint URL for a city.\n",
    "city_url = url + \"&q=\" + \"Boston\"\n"
   ]
  },
  {
   "cell_type": "code",
   "execution_count": 44,
   "id": "8cefbcc0",
   "metadata": {},
   "outputs": [
    {
     "data": {
      "text/plain": [
       "<Response [200]>"
      ]
     },
     "execution_count": 44,
     "metadata": {},
     "output_type": "execute_result"
    }
   ],
   "source": [
    "# Make a \"Get\" request for the city weather for Boston\n",
    "city_weather = requests.get(city_url)\n",
    "city_weather"
   ]
  },
  {
   "cell_type": "code",
   "execution_count": 46,
   "id": "3d9adf81",
   "metadata": {},
   "outputs": [
    {
     "data": {
      "text/plain": [
       "200"
      ]
     },
     "execution_count": 46,
     "metadata": {},
     "output_type": "execute_result"
    }
   ],
   "source": [
    "# Directly call response code\n",
    "city_weather.status_code"
   ]
  },
  {
   "cell_type": "code",
   "execution_count": 47,
   "id": "8e576141",
   "metadata": {},
   "outputs": [
    {
     "data": {
      "text/plain": [
       "<Response [404]>"
      ]
     },
     "execution_count": 47,
     "metadata": {},
     "output_type": "execute_result"
    }
   ],
   "source": [
    "# Create an endpoint URL for a city with spelling error to see Response 404\n",
    "city_url = url + \"&q=\" + \"Bston\"\n",
    "city_weather = requests.get(city_url)\n",
    "city_weather"
   ]
  },
  {
   "cell_type": "code",
   "execution_count": 48,
   "id": "39138f87",
   "metadata": {},
   "outputs": [
    {
     "data": {
      "text/plain": [
       "<Response [200]>"
      ]
     },
     "execution_count": 48,
     "metadata": {},
     "output_type": "execute_result"
    }
   ],
   "source": [
    "# Create an endpoint URL for a city (combining steps above)\n",
    "city_url = url + \"&q=\" + \"Boston\"\n",
    "city_weather = requests.get(city_url)\n",
    "city_weather"
   ]
  },
  {
   "cell_type": "code",
   "execution_count": 49,
   "id": "0511268a",
   "metadata": {},
   "outputs": [
    {
     "data": {
      "text/plain": [
       "'{\"coord\":{\"lon\":-71.0598,\"lat\":42.3584},\"weather\":[{\"id\":801,\"main\":\"Clouds\",\"description\":\"few clouds\",\"icon\":\"02n\"}],\"base\":\"stations\",\"main\":{\"temp\":71.42,\"feels_like\":72.3,\"temp_min\":67.14,\"temp_max\":74.77,\"pressure\":1018,\"humidity\":86},\"visibility\":10000,\"wind\":{\"speed\":4,\"deg\":193,\"gust\":8.99},\"clouds\":{\"all\":19},\"dt\":1628302719,\"sys\":{\"type\":2,\"id\":2001997,\"country\":\"US\",\"sunrise\":1628242930,\"sunset\":1628294282},\"timezone\":-14400,\"id\":4930956,\"name\":\"Boston\",\"cod\":200}'"
      ]
     },
     "execution_count": 49,
     "metadata": {},
     "output_type": "execute_result"
    }
   ],
   "source": [
    "# Get the text of the 'Get' request. (i.e. formatting the data - text)\n",
    "city_weather.text"
   ]
  },
  {
   "cell_type": "code",
   "execution_count": 50,
   "id": "cfb0244b",
   "metadata": {},
   "outputs": [
    {
     "data": {
      "text/plain": [
       "{'coord': {'lon': -71.0598, 'lat': 42.3584},\n",
       " 'weather': [{'id': 801,\n",
       "   'main': 'Clouds',\n",
       "   'description': 'few clouds',\n",
       "   'icon': '02n'}],\n",
       " 'base': 'stations',\n",
       " 'main': {'temp': 71.42,\n",
       "  'feels_like': 72.3,\n",
       "  'temp_min': 67.14,\n",
       "  'temp_max': 74.77,\n",
       "  'pressure': 1018,\n",
       "  'humidity': 86},\n",
       " 'visibility': 10000,\n",
       " 'wind': {'speed': 4, 'deg': 193, 'gust': 8.99},\n",
       " 'clouds': {'all': 19},\n",
       " 'dt': 1628302719,\n",
       " 'sys': {'type': 2,\n",
       "  'id': 2001997,\n",
       "  'country': 'US',\n",
       "  'sunrise': 1628242930,\n",
       "  'sunset': 1628294282},\n",
       " 'timezone': -14400,\n",
       " 'id': 4930956,\n",
       " 'name': 'Boston',\n",
       " 'cod': 200}"
      ]
     },
     "execution_count": 50,
     "metadata": {},
     "output_type": "execute_result"
    }
   ],
   "source": [
    "# Get the JSON of the 'Get' request. (i.e. formatting the data - JSON)\n",
    "city_weather.json()"
   ]
  },
  {
   "cell_type": "code",
   "execution_count": 51,
   "id": "a1bef6da",
   "metadata": {},
   "outputs": [
    {
     "name": "stdout",
     "output_type": "stream",
     "text": [
      "City Weather Not Found\n"
     ]
    }
   ],
   "source": [
    "# Handle Request Errors (using if else statement to print error message)\n",
    "# Create an endpoint URL for a city.\n",
    "city_url = url + \"&q\" + \"Boston\"\n",
    "city_weather = requests.get(city_url)\n",
    "if city_weather.status_code == 200: #checking status code\n",
    "    print (f\"City Weather Found\")\n",
    "else:\n",
    "    print(f\"City Weather Not Found\")"
   ]
  },
  {
   "cell_type": "code",
   "execution_count": 52,
   "id": "d7bdcf55",
   "metadata": {},
   "outputs": [
    {
     "name": "stdout",
     "output_type": "stream",
     "text": [
      "City Weather found.\n"
     ]
    }
   ],
   "source": [
    "# Create an endpoint URL for a city\n",
    "city_url = url + \"&q=\" + \"Bston\" #intentional spelling mistake to get error \n",
    "city_weather = requests.get(city_url)\n",
    "if city_weather.json(): # checking if JSON data exists\n",
    "    print(f\"City Weather found.\")\n",
    "else:\n",
    "    print(f\"City weather not found.\")"
   ]
  },
  {
   "cell_type": "code",
   "execution_count": 53,
   "id": "275f557b",
   "metadata": {},
   "outputs": [
    {
     "name": "stdout",
     "output_type": "stream",
     "text": [
      "http://api.openweathermap.org/data/2.5/weather?units=Imperial&APPID=97235167af2e2258caf8e839c1f8e2a1&q=Bston\n"
     ]
    }
   ],
   "source": [
    "# Above cell says weather found but clicking on URL we get error bc JSON data always returned on request\n",
    "print(city_url)"
   ]
  },
  {
   "cell_type": "code",
   "execution_count": null,
   "id": "ff05167a",
   "metadata": {},
   "outputs": [],
   "source": [
    "# Getting Weather Data 6.2.5"
   ]
  },
  {
   "cell_type": "code",
   "execution_count": 54,
   "id": "764bb46c",
   "metadata": {},
   "outputs": [
    {
     "data": {
      "text/plain": [
       "{'coord': {'lon': -71.0598, 'lat': 42.3584},\n",
       " 'weather': [{'id': 802,\n",
       "   'main': 'Clouds',\n",
       "   'description': 'scattered clouds',\n",
       "   'icon': '03n'}],\n",
       " 'base': 'stations',\n",
       " 'main': {'temp': 70.75,\n",
       "  'feels_like': 71.53,\n",
       "  'temp_min': 67.01,\n",
       "  'temp_max': 74.01,\n",
       "  'pressure': 1018,\n",
       "  'humidity': 85},\n",
       " 'visibility': 10000,\n",
       " 'wind': {'speed': 3, 'deg': 219, 'gust': 8.01},\n",
       " 'clouds': {'all': 28},\n",
       " 'dt': 1628303854,\n",
       " 'sys': {'type': 2,\n",
       "  'id': 2001997,\n",
       "  'country': 'US',\n",
       "  'sunrise': 1628242930,\n",
       "  'sunset': 1628294282},\n",
       " 'timezone': -14400,\n",
       " 'id': 4930956,\n",
       " 'name': 'Boston',\n",
       " 'cod': 200}"
      ]
     },
     "execution_count": 54,
     "metadata": {},
     "output_type": "execute_result"
    }
   ],
   "source": [
    "# Create an endpoint URL for a city.\n",
    "city_url = url + \"&q=\" + \"Boston\"\n",
    "city_weather = requests.get(city_url)\n",
    "city_weather.json()"
   ]
  },
  {
   "cell_type": "code",
   "execution_count": 55,
   "id": "d45ba548",
   "metadata": {},
   "outputs": [],
   "source": [
    "# Get country code (in nested dictionary where first dictionary starts with sys)\n",
    "# First, assign variable to the city_weather.json() data\n",
    "boston_data=city_weather.json()"
   ]
  },
  {
   "cell_type": "code",
   "execution_count": 57,
   "id": "cdc17264",
   "metadata": {},
   "outputs": [
    {
     "data": {
      "text/plain": [
       "'US'"
      ]
     },
     "execution_count": 57,
     "metadata": {},
     "output_type": "execute_result"
    }
   ],
   "source": [
    "# Use 'sys' and then 'country' key to get the corresponding value\n",
    "boston_data['sys']['country']"
   ]
  },
  {
   "cell_type": "code",
   "execution_count": 58,
   "id": "b1a4b530",
   "metadata": {},
   "outputs": [
    {
     "data": {
      "text/plain": [
       "1628303854"
      ]
     },
     "execution_count": 58,
     "metadata": {},
     "output_type": "execute_result"
    }
   ],
   "source": [
    "# Retrieve the date in the weather data (will be in database timestamp format)\n",
    "boston_data['dt']"
   ]
  },
  {
   "cell_type": "code",
   "execution_count": 61,
   "id": "206f1cc8",
   "metadata": {},
   "outputs": [
    {
     "data": {
      "text/plain": [
       "'2021-08-07 02:37:34'"
      ]
     },
     "execution_count": 61,
     "metadata": {},
     "output_type": "execute_result"
    }
   ],
   "source": [
    "# Convert the date from the Boston weather data in the JSON format to the ISO format\n",
    "# Import the datetime module from the datetime library.\n",
    "from datetime import datetime\n",
    "\n",
    "# Get the date from the JSON file.\n",
    "date = boston_data[\"dt\"]\n",
    "\n",
    "# Convert the UTC date to a date format with year, month, day, hours, minutes, and seconds.\n",
    "datetime.utcfromtimestamp(date).strftime('%Y-%m-%d %H:%M:%S') # python string format method: strftime('%Y-%m-%d %H:%M:%S') "
   ]
  },
  {
   "cell_type": "code",
   "execution_count": 59,
   "id": "eee42a71",
   "metadata": {},
   "outputs": [
    {
     "name": "stdout",
     "output_type": "stream",
     "text": [
      "42.3584 -71.0598 74.01 85 28 3\n"
     ]
    }
   ],
   "source": [
    "# Get weather data: atitude, longitude, maximum temperature, humidity, percent cloudiness, and wind speed\n",
    "lat = boston_data['coord']['lat']\n",
    "lng = boston_data['coord']['lon']\n",
    "max_temp = boston_data['main']['temp_max']\n",
    "humidity = boston_data['main']['humidity']\n",
    "clouds = boston_data['clouds']['all']\n",
    "wind = boston_data['wind']['speed']\n",
    "print(lat, lng, max_temp, humidity, clouds, wind)\n"
   ]
  },
  {
   "cell_type": "code",
   "execution_count": null,
   "id": "32601d3f",
   "metadata": {},
   "outputs": [],
   "source": []
  }
 ],
 "metadata": {
  "kernelspec": {
   "display_name": "PythonData",
   "language": "python",
   "name": "pythondata"
  },
  "language_info": {
   "codemirror_mode": {
    "name": "ipython",
    "version": 3
   },
   "file_extension": ".py",
   "mimetype": "text/x-python",
   "name": "python",
   "nbconvert_exporter": "python",
   "pygments_lexer": "ipython3",
   "version": "3.8.8"
  }
 },
 "nbformat": 4,
 "nbformat_minor": 5
}
